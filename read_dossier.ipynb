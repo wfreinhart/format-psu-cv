{
 "cells": [
  {
   "cell_type": "code",
   "execution_count": 320,
   "id": "initial_id",
   "metadata": {
    "collapsed": true,
    "ExecuteTime": {
     "end_time": "2024-10-28T19:01:42.837517Z",
     "start_time": "2024-10-28T19:01:42.807773Z"
    }
   },
   "outputs": [],
   "source": [
    "from docx import Document\n",
    "import os\n",
    "\n",
    "with open(os.path.join('data', 'dossier.docx'), 'rb') as f:\n",
    "    dossier = Document(f)\n",
    "\n",
    "with open(os.path.join('data', 'CV.docx'), 'rb') as f:\n",
    "    cv = Document(f)    "
   ]
  },
  {
   "cell_type": "code",
   "execution_count": 321,
   "outputs": [],
   "source": [
    "# \"Directed Student Learning\"\n",
    "# use the dossier details and insert here\n",
    "\n",
    "# Dossier: \"Supervision of, and Membership on, Graduate and Undergraduate Dissertations, Theses, Projects, Monographs, Performances, Productions, and Exhibitions Required for Degrees; Types of Degrees and Years Granted\"\n",
    "doss_start = \"Supervision of, and Membership on, Graduate and Undergraduate Dissertations, Theses, Projects, Monographs, Performances, Productions, and Exhibitions Required for Degrees; Types of Degrees and Years Granted\"\n",
    "doss_end = \"Professional Development Activities Related to Teaching Responsibilities\"\n",
    "\n",
    "p_start = 0\n",
    "for p, it in enumerate(dossier.paragraphs):\n",
    "    if doss_start.lower() == it.text.lower():\n",
    "        p_start = p\n",
    "    if doss_end.lower() == it.text.lower():\n",
    "        if p_start == 0:\n",
    "            raise ValueError('Never encountered the start token in Dossier.')\n",
    "        p_doss = range(p_start+1, p)\n",
    "        break\n",
    "        \n",
    "# CV: \"Directed Student Learning\"\n",
    "cv_start = \"Directed Student Learning\"\n",
    "cv_end = \"RESEARCH\"\n",
    "\n",
    "p_start = 0\n",
    "for p, it in enumerate(cv.paragraphs):\n",
    "    if cv_start.lower() == it.text.lower():\n",
    "        p_start = p\n",
    "    if cv_end.lower() == it.text.lower():\n",
    "        if p_start == 0:\n",
    "            raise ValueError('Never encountered the start token in CV.')\n",
    "        p_cv = range(p_start+1, p)\n",
    "        break"
   ],
   "metadata": {
    "collapsed": false,
    "ExecuteTime": {
     "end_time": "2024-10-28T19:01:42.871138Z",
     "start_time": "2024-10-28T19:01:42.841322Z"
    }
   },
   "id": "86f1d4d7058f21b9"
  },
  {
   "cell_type": "code",
   "execution_count": 322,
   "outputs": [],
   "source": [
    "def remove_paragraphs_by_index(doc, paragraph_indices):\n",
    "\n",
    "    # Sort the indices in reverse order to avoid shifting issues\n",
    "    paragraph_indices.sort(reverse=True)\n",
    "\n",
    "    # Remove paragraphs by index\n",
    "    for index in paragraph_indices:\n",
    "        if 0 <= index < len(doc.paragraphs):\n",
    "            p = doc.paragraphs[index]._element\n",
    "            p.getparent().remove(p)\n",
    "    \n",
    "    return doc\n",
    "\n",
    "cv = remove_paragraphs_by_index(cv, list(p_cv))"
   ],
   "metadata": {
    "collapsed": false,
    "ExecuteTime": {
     "end_time": "2024-10-28T19:01:42.946806Z",
     "start_time": "2024-10-28T19:01:42.920240Z"
    }
   },
   "id": "457249c1534e8835"
  },
  {
   "cell_type": "code",
   "execution_count": 323,
   "outputs": [],
   "source": [
    "from docx.shared import Pt\n",
    "\n",
    "def insert_paragraphs_at_index(doc, new_content, before):\n",
    "    for insert_para in new_content:\n",
    "        # Insert an empty paragraph before the specified paragraph\n",
    "        new_p = before.insert_paragraph_before()\n",
    "\n",
    "        # Copy runs with their bold formatting\n",
    "        for run in insert_para.runs:\n",
    "            # n_tabs = (1 + int(',' in run.text))\n",
    "            # tabs = ''.join(['\\t']*n_tabs)\n",
    "            new_run = new_p.add_run(run.text)\n",
    "            new_run.bold = ',' not in run.text\n",
    "\n",
    "        # Set paragraph formatting to have a hanging indent\n",
    "        tab_size = 18\n",
    "        if ',' in insert_para.text:  # Negative indent for the first line\n",
    "            new_p.paragraph_format.left_indent = Pt(3*tab_size)  # Indent the entire paragraph\n",
    "            new_p.paragraph_format.first_line_indent = Pt(-tab_size)  \n",
    "        else:\n",
    "            new_p.paragraph_format.left_indent = Pt(tab_size)\n",
    "\n",
    "    return doc\n",
    "\n",
    "new_content = [dossier.paragraphs[p] for p in p_doss]\n",
    "before_para = [p for p in cv.paragraphs if p.text.lower() == cv_end.lower()][0]\n",
    "cv = insert_paragraphs_at_index(cv, new_content, before_para)"
   ],
   "metadata": {
    "collapsed": false,
    "ExecuteTime": {
     "end_time": "2024-10-28T19:01:43.179657Z",
     "start_time": "2024-10-28T19:01:43.037015Z"
    }
   },
   "id": "df915a4d246c64f4"
  },
  {
   "cell_type": "code",
   "execution_count": 324,
   "outputs": [],
   "source": [
    "# \"Teaching Experience\"\n",
    "# use the dossier details and insert here \n",
    "# clean up unnecessary details as appropriate\n",
    "\n",
    "# Dossier: \"Supervision of, and Membership on, Graduate and Undergraduate Dissertations, Theses, Projects, Monographs, Performances, Productions, and Exhibitions Required for Degrees; Types of Degrees and Years Granted\"\n",
    "doss_start = \"List of Credit Courses Taught at Penn State for Each Semester with Enrollments in Each Course\"\n",
    "doss_end = \"Concise Compilation of Results of Student Feedback from Multiple Sources, Documented Evaluation of Candidate’s Programs, Activities, and Skills in Relating to Clientele\"\n",
    "\n",
    "p_start = 0\n",
    "for p, it in enumerate(dossier.paragraphs):\n",
    "    if doss_start.lower() == it.text.lower():\n",
    "        p_start = p\n",
    "    if doss_end.lower() == it.text.lower():\n",
    "        if p_start == 0:\n",
    "            raise ValueError('Never encountered the start token in Dossier.')\n",
    "        p_doss = range(p_start+1, p)\n",
    "        break\n",
    "        \n",
    "# CV: \"Directed Student Learning\"\n",
    "cv_start = \"Teaching Experience\"\n",
    "cv_end = \"Directed Student Learning\"\n",
    "\n",
    "p_start = 0\n",
    "for p, it in enumerate(cv.paragraphs):\n",
    "    if cv_start.lower() == it.text.lower():\n",
    "        p_start = p\n",
    "    if cv_end.lower() == it.text.lower():\n",
    "        if p_start == 0:\n",
    "            raise ValueError('Never encountered the start token in CV.')\n",
    "        p_cv = range(p_start+1, p)\n",
    "        break"
   ],
   "metadata": {
    "collapsed": false,
    "ExecuteTime": {
     "end_time": "2024-10-28T19:01:43.199294Z",
     "start_time": "2024-10-28T19:01:43.182618Z"
    }
   },
   "id": "dd2341036c52d899"
  },
  {
   "cell_type": "code",
   "execution_count": 325,
   "outputs": [],
   "source": [
    "cv = remove_paragraphs_by_index(cv, list(p_cv))"
   ],
   "metadata": {
    "collapsed": false,
    "ExecuteTime": {
     "end_time": "2024-10-28T19:01:43.212349Z",
     "start_time": "2024-10-28T19:01:43.210537Z"
    }
   },
   "id": "aab9ac596bd0ab3c"
  },
  {
   "cell_type": "code",
   "execution_count": 326,
   "outputs": [],
   "source": [
    "import json\n",
    "\n",
    "def is_study_topic(run):\n",
    "    return 'study topic' in run.text\n",
    "\n",
    "def is_semester(run):\n",
    "    semesters = ['Fall', 'Spring', 'Summer']\n",
    "    return any([s in run.text for s in semesters])\n",
    "\n",
    "def extract_course_number(run):\n",
    "    run.text.split(',')[0]\n",
    "    return \n",
    "\n",
    "def insert_teaching_at_index(doc, new_content, before):\n",
    "    for insert_para in new_content:\n",
    "        # Insert an empty paragraph before the specified paragraph\n",
    "        new_p = before.insert_paragraph_before()\n",
    "\n",
    "        # Copy runs with their bold formatting\n",
    "        for run in insert_para.runs:\n",
    "            # n_tabs = (1 + int(',' in run.text))\n",
    "            # tabs = ''.join(['\\t']*n_tabs)\n",
    "            new_run = new_p.add_run(run.text)\n",
    "            new_run.bold = is_semester(run)\n",
    "            new_run.italic = is_study_topic(run)\n",
    "\n",
    "        # Set paragraph formatting to have a hanging indent\n",
    "        tab_size = 18\n",
    "        if is_semester(insert_para):  # Negative indent for the first line\n",
    "            new_p.paragraph_format.left_indent = Pt(tab_size)\n",
    "        else:\n",
    "            new_p.paragraph_format.left_indent = Pt(3*tab_size)  # Indent the entire paragraph\n",
    "            new_p.paragraph_format.first_line_indent = Pt(-tab_size)  \n",
    "\n",
    "    return doc\n",
    "\n",
    "with open(os.path.join('data', 'course_names.json'), 'r') as fid:\n",
    "    course_names = json.load(fid)  \n",
    "\n",
    "new_content = [dossier.paragraphs[p] for p in p_doss]\n",
    "before_para = [p for p in cv.paragraphs if p.text.lower() == cv_end.lower()][0]\n",
    "cv = insert_teaching_at_index(cv, new_content, before_para)"
   ],
   "metadata": {
    "collapsed": false,
    "ExecuteTime": {
     "end_time": "2024-10-28T19:01:43.332309Z",
     "start_time": "2024-10-28T19:01:43.287664Z"
    }
   },
   "id": "121cee367a7c617e"
  },
  {
   "cell_type": "code",
   "execution_count": 327,
   "outputs": [],
   "source": [
    "cv.save(os.path.join('data', 'modified-CV.docx'))"
   ],
   "metadata": {
    "collapsed": false,
    "ExecuteTime": {
     "end_time": "2024-10-28T19:01:43.359444Z",
     "start_time": "2024-10-28T19:01:43.332618Z"
    }
   },
   "id": "943d2c99b4565ac3"
  },
  {
   "cell_type": "code",
   "execution_count": 319,
   "outputs": [],
   "source": [],
   "metadata": {
    "collapsed": false,
    "ExecuteTime": {
     "end_time": "2024-10-28T19:01:41.075991Z",
     "start_time": "2024-10-28T19:01:41.071523Z"
    }
   },
   "id": "96b123b64fd61485"
  }
 ],
 "metadata": {
  "kernelspec": {
   "display_name": "Python 3",
   "language": "python",
   "name": "python3"
  },
  "language_info": {
   "codemirror_mode": {
    "name": "ipython",
    "version": 2
   },
   "file_extension": ".py",
   "mimetype": "text/x-python",
   "name": "python",
   "nbconvert_exporter": "python",
   "pygments_lexer": "ipython2",
   "version": "2.7.6"
  }
 },
 "nbformat": 4,
 "nbformat_minor": 5
}
