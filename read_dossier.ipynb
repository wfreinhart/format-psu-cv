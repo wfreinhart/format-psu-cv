{
 "cells": [
  {
   "cell_type": "code",
   "execution_count": 164,
   "id": "initial_id",
   "metadata": {
    "collapsed": true,
    "ExecuteTime": {
     "end_time": "2024-10-29T12:57:57.449892Z",
     "start_time": "2024-10-29T12:57:57.426063Z"
    }
   },
   "outputs": [],
   "source": [
    "from docx import Document\n",
    "import os\n",
    "\n",
    "with open(os.path.join('data', 'dossier.docx'), 'rb') as f:\n",
    "    dossier = Document(f)\n",
    "\n",
    "with open(os.path.join('data', 'CV.docx'), 'rb') as f:\n",
    "    cv = Document(f)    "
   ]
  },
  {
   "cell_type": "code",
   "execution_count": 165,
   "outputs": [],
   "source": [
    "# \"Directed Student Learning\"\n",
    "# use the dossier details and insert here\n",
    "\n",
    "# Dossier: \"Supervision of, and Membership on, Graduate and Undergraduate Dissertations, Theses, Projects, Monographs, Performances, Productions, and Exhibitions Required for Degrees; Types of Degrees and Years Granted\"\n",
    "doss_start = \"Supervision of, and Membership on, Graduate and Undergraduate Dissertations, Theses, Projects, Monographs, Performances, Productions, and Exhibitions Required for Degrees; Types of Degrees and Years Granted\"\n",
    "doss_end = \"Professional Development Activities Related to Teaching Responsibilities\"\n",
    "\n",
    "p_start = 0\n",
    "for p, it in enumerate(dossier.paragraphs):\n",
    "    if doss_start.lower() == it.text.lower():\n",
    "        p_start = p\n",
    "    if doss_end.lower() == it.text.lower():\n",
    "        if p_start == 0:\n",
    "            raise ValueError('Never encountered the start token in Dossier.')\n",
    "        p_doss = range(p_start+1, p)\n",
    "        break\n",
    "        \n",
    "# CV: \"Directed Student Learning\"\n",
    "cv_start = \"Directed Student Learning\"\n",
    "cv_end = \"RESEARCH\"\n",
    "\n",
    "p_start = 0\n",
    "for p, it in enumerate(cv.paragraphs):\n",
    "    if cv_start.lower() == it.text.lower():\n",
    "        p_start = p\n",
    "    if cv_end.lower() == it.text.lower():\n",
    "        if p_start == 0:\n",
    "            raise ValueError('Never encountered the start token in CV.')\n",
    "        p_cv = range(p_start+1, p)\n",
    "        break"
   ],
   "metadata": {
    "collapsed": false,
    "ExecuteTime": {
     "end_time": "2024-10-29T12:57:57.678808Z",
     "start_time": "2024-10-29T12:57:57.445123Z"
    }
   },
   "id": "86f1d4d7058f21b9"
  },
  {
   "cell_type": "code",
   "execution_count": 166,
   "outputs": [],
   "source": [
    "def remove_paragraphs_by_index(doc, paragraph_indices):\n",
    "\n",
    "    # Sort the indices in reverse order to avoid shifting issues\n",
    "    paragraph_indices.sort(reverse=True)\n",
    "\n",
    "    # Remove paragraphs by index\n",
    "    for index in paragraph_indices:\n",
    "        if 0 <= index < len(doc.paragraphs):\n",
    "            p = doc.paragraphs[index]._element\n",
    "            p.getparent().remove(p)\n",
    "    \n",
    "    return doc\n",
    "\n",
    "cv = remove_paragraphs_by_index(cv, list(p_cv))"
   ],
   "metadata": {
    "collapsed": false,
    "ExecuteTime": {
     "end_time": "2024-10-29T12:57:57.826765Z",
     "start_time": "2024-10-29T12:57:57.740653Z"
    }
   },
   "id": "457249c1534e8835"
  },
  {
   "cell_type": "code",
   "execution_count": 167,
   "outputs": [],
   "source": [
    "from docx.shared import Pt\n",
    "\n",
    "def insert_paragraphs_at_index(doc, new_content, before):\n",
    "    for insert_para in new_content:\n",
    "        # Insert an empty paragraph before the specified paragraph\n",
    "        new_p = before.insert_paragraph_before()\n",
    "\n",
    "        # Copy runs with their bold formatting\n",
    "        for run in insert_para.runs:\n",
    "            # n_tabs = (1 + int(',' in run.text))\n",
    "            # tabs = ''.join(['\\t']*n_tabs)\n",
    "            new_run = new_p.add_run(run.text)\n",
    "            new_run.bold = ',' not in run.text\n",
    "\n",
    "        # Set paragraph formatting to have a hanging indent\n",
    "        tab_size = 18\n",
    "        if ',' in insert_para.text:  # Negative indent for the first line\n",
    "            new_p.paragraph_format.left_indent = Pt(3*tab_size)  # Indent the entire paragraph\n",
    "            new_p.paragraph_format.first_line_indent = Pt(-tab_size)  \n",
    "        else:\n",
    "            new_p.paragraph_format.left_indent = Pt(tab_size)\n",
    "\n",
    "    return doc\n",
    "\n",
    "new_content = [dossier.paragraphs[p] for p in p_doss]\n",
    "before_para = [p for p in cv.paragraphs if p.text.lower() == cv_end.lower()][0]\n",
    "cv = insert_paragraphs_at_index(cv, new_content, before_para)"
   ],
   "metadata": {
    "collapsed": false,
    "ExecuteTime": {
     "end_time": "2024-10-29T12:57:58.045322Z",
     "start_time": "2024-10-29T12:57:57.854017Z"
    }
   },
   "id": "df915a4d246c64f4"
  },
  {
   "cell_type": "code",
   "execution_count": 168,
   "outputs": [],
   "source": [
    "# \"Teaching Experience\"\n",
    "# use the dossier details and insert here \n",
    "# clean up unnecessary details as appropriate\n",
    "\n",
    "# Dossier: \"Supervision of, and Membership on, Graduate and Undergraduate Dissertations, Theses, Projects, Monographs, Performances, Productions, and Exhibitions Required for Degrees; Types of Degrees and Years Granted\"\n",
    "doss_start = \"List of Credit Courses Taught at Penn State for Each Semester with Enrollments in Each Course\"\n",
    "doss_end = \"Concise Compilation of Results of Student Feedback from Multiple Sources, Documented Evaluation of Candidate’s Programs, Activities, and Skills in Relating to Clientele\"\n",
    "\n",
    "p_start = 0\n",
    "for p, it in enumerate(dossier.paragraphs):\n",
    "    if doss_start.lower() == it.text.lower():\n",
    "        p_start = p\n",
    "    if doss_end.lower() == it.text.lower():\n",
    "        if p_start == 0:\n",
    "            raise ValueError('Never encountered the start token in Dossier.')\n",
    "        p_doss = range(p_start+1, p)\n",
    "        break\n",
    "        \n",
    "# CV: \"Directed Student Learning\"\n",
    "cv_start = \"Teaching Experience\"\n",
    "cv_end = \"Directed Student Learning\"\n",
    "\n",
    "p_start = 0\n",
    "for p, it in enumerate(cv.paragraphs):\n",
    "    if cv_start.lower() == it.text.lower():\n",
    "        p_start = p\n",
    "    if cv_end.lower() == it.text.lower():\n",
    "        if p_start == 0:\n",
    "            raise ValueError('Never encountered the start token in CV.')\n",
    "        p_cv = range(p_start+1, p)\n",
    "        break"
   ],
   "metadata": {
    "collapsed": false,
    "ExecuteTime": {
     "end_time": "2024-10-29T12:57:58.075920Z",
     "start_time": "2024-10-29T12:57:58.050188Z"
    }
   },
   "id": "dd2341036c52d899"
  },
  {
   "cell_type": "code",
   "execution_count": 169,
   "outputs": [],
   "source": [
    "cv = remove_paragraphs_by_index(cv, list(p_cv))"
   ],
   "metadata": {
    "collapsed": false,
    "ExecuteTime": {
     "end_time": "2024-10-29T12:57:58.085843Z",
     "start_time": "2024-10-29T12:57:58.084075Z"
    }
   },
   "id": "aab9ac596bd0ab3c"
  },
  {
   "cell_type": "code",
   "execution_count": 170,
   "outputs": [],
   "source": [
    "import json\n",
    "import re\n",
    "\n",
    "def titleize(text, exceptions):\n",
    "    return ' '.join([word.lower() if word in exceptions else word.capitalize() for word in text.split()])\n",
    "\n",
    "def is_course_format(s):\n",
    "    # Define the regex pattern\n",
    "    # pattern = r'^[A-Z]{2,5} \\d{3}-\\d{3}$'\n",
    "    pattern = r'^[A-Z]{2,5} \\d{3}[A-Z]?-\\d{3}[A-Z]?$'\n",
    "    \n",
    "    # Use re.match to check if the string matches the pattern\n",
    "    if re.match(pattern, s):\n",
    "        return True\n",
    "    else:\n",
    "        return False\n",
    "\n",
    "def is_study_topic(run):\n",
    "    return 'study topic' in run.text\n",
    "\n",
    "def is_semester(run):\n",
    "    semesters = ['Fall', 'Spring', 'Summer']\n",
    "    return any([s in run.text for s in semesters])\n",
    "\n",
    "def extract_course_number(text):\n",
    "    dept_num = text.split(',')[0].split('-')[0]\n",
    "    return dept_num\n",
    "\n",
    "def check_for_course_and_replace(run):\n",
    "    if ',' not in run.text:\n",
    "        return run.text\n",
    "    potential_course_number = run.text.split(',')[0]\n",
    "    if not is_course_format(potential_course_number):\n",
    "        return run.text\n",
    "    number = extract_course_number(potential_course_number)\n",
    "    if number in course_names.keys():\n",
    "        return f\"{number}, {course_names[number]}\"\n",
    "    else:\n",
    "        return \"\"\n",
    "\n",
    "def insert_teaching_at_index(doc, new_content, before):\n",
    "    for insert_para in new_content:\n",
    "        # Insert an empty paragraph before the specified paragraph\n",
    "        new_p = before.insert_paragraph_before()\n",
    "\n",
    "        # Copy runs with their bold formatting\n",
    "        for run in insert_para.runs:\n",
    "            # n_tabs = (1 + int(',' in run.text))\n",
    "            # tabs = ''.join(['\\t']*n_tabs)\n",
    "            run_text = check_for_course_and_replace(run)\n",
    "            if len(run_text) == 0:\n",
    "                continue\n",
    "            if is_study_topic(run):\n",
    "                run_text = titleize(run.text, exceptions=['of', 'the', 'in', 'to', 'for',  'and']) + '\\n'\n",
    "            new_run = new_p.add_run(run_text)\n",
    "            new_run.bold = is_semester(run)\n",
    "            new_run.italic = is_study_topic(run)    \n",
    "\n",
    "        # Set paragraph formatting to have a hanging indent\n",
    "        tab_size = 18\n",
    "        if is_semester(insert_para):  # Negative indent for the first line\n",
    "            new_p.paragraph_format.left_indent = Pt(tab_size)\n",
    "        else:\n",
    "            new_p.paragraph_format.left_indent = Pt(2*tab_size)  # Indent the entire paragraph\n",
    "\n",
    "    return doc\n",
    "\n",
    "with open(os.path.join('data', 'course_names.json'), 'r') as fid:\n",
    "    course_names = json.load(fid)  \n",
    "\n",
    "new_content = [dossier.paragraphs[p] for p in p_doss]\n",
    "before_para = [p for p in cv.paragraphs if p.text.lower() == cv_end.lower()][0]\n",
    "cv = insert_teaching_at_index(cv, new_content, before_para)"
   ],
   "metadata": {
    "collapsed": false,
    "ExecuteTime": {
     "end_time": "2024-10-29T12:57:58.211201Z",
     "start_time": "2024-10-29T12:57:58.089729Z"
    }
   },
   "id": "121cee367a7c617e"
  },
  {
   "cell_type": "code",
   "execution_count": 171,
   "outputs": [],
   "source": [
    "# remove duplicates (from hybrid/online)\n",
    "# remove multiple blank lines\n",
    "# remove empty semesters\n",
    "\n",
    "# CV: \"Directed Student Learning\"\n",
    "cv_start = \"Teaching Experience\"\n",
    "cv_end = \"Directed Student Learning\"\n",
    "\n",
    "p_start = False\n",
    "this_semester = None\n",
    "breaks = []\n",
    "courses = []\n",
    "p_cv = []\n",
    "for p, it in enumerate(cv.paragraphs):\n",
    "    if cv_start.lower() == it.text.lower():\n",
    "        p_start = True\n",
    "    if len(it.runs) == 0:\n",
    "        continue\n",
    "    if is_semester(it.runs[0]):\n",
    "        # clean up previous semester first\n",
    "        if this_semester is not None:\n",
    "            if len(courses) == 0:\n",
    "                p_cv.append(p)  # delete the semester line\n",
    "                p_cv += breaks\n",
    "            elif len(breaks) > 1:\n",
    "                p_cv += breaks[1:]\n",
    "        this_semester = p\n",
    "        breaks = []\n",
    "    elif len(it.text) == 0:\n",
    "        breaks.append(p)\n",
    "    # elif it.text in courses:\n",
    "    #     breaks.append(p)  # remove duplicate courses\n",
    "    else:\n",
    "        courses.append(it.text)\n",
    "    if cv_end.lower() == it.text.lower():\n",
    "        if p_start is False:\n",
    "            raise ValueError('Never encountered the start token in CV.')\n",
    "        break\n",
    "        \n",
    "# cv = remove_paragraphs_by_index(cv, p_cv)"
   ],
   "metadata": {
    "collapsed": false,
    "ExecuteTime": {
     "end_time": "2024-10-29T12:57:58.235295Z",
     "start_time": "2024-10-29T12:57:58.214030Z"
    }
   },
   "id": "4935e17ae7595491"
  },
  {
   "cell_type": "code",
   "execution_count": 172,
   "outputs": [],
   "source": [
    "def find_indices_of_multiple_newlines(doc):\n",
    "    \"\"\"\n",
    "    This function returns a list of indices for paragraphs that should be removed\n",
    "    to ensure only a single empty paragraph (newline) exists between sections.\n",
    "    \"\"\"\n",
    "    indices_to_remove = []\n",
    "    paragraphs = doc.paragraphs\n",
    "    \n",
    "    last_was_empty = False\n",
    "    for i, para in enumerate(paragraphs):\n",
    "        if not para.text.strip():  # Check if the paragraph is empty\n",
    "            if last_was_empty:\n",
    "                indices_to_remove.append(i)  # Mark this empty paragraph for removal\n",
    "            last_was_empty = True\n",
    "        else:\n",
    "            last_was_empty = False\n",
    "    \n",
    "    return indices_to_remove\n",
    "\n",
    "# p_idx = find_indices_of_multiple_newlines(cv)\n",
    "# cv = remove_paragraphs_by_index(cv, p_idx)"
   ],
   "metadata": {
    "collapsed": false,
    "ExecuteTime": {
     "end_time": "2024-10-29T12:57:58.240985Z",
     "start_time": "2024-10-29T12:57:58.236038Z"
    }
   },
   "id": "a89406d4bb5d484a"
  },
  {
   "cell_type": "code",
   "execution_count": 173,
   "outputs": [],
   "source": [
    "def identify_bad_teaching_paragraphs(doc):\n",
    "    paragraphs = doc.paragraphs\n",
    "    indices_to_remove = []\n",
    "\n",
    "    i = 0\n",
    "    while i < len(paragraphs):\n",
    "        para = paragraphs[i]\n",
    "\n",
    "        # Check if the paragraph is a semester heading\n",
    "        if is_semester(para):\n",
    "            # Check if there are courses or study topics under this semester\n",
    "            has_courses = False\n",
    "            j = i + 1\n",
    "            while j < len(paragraphs) and not is_semester(paragraphs[j]):\n",
    "                if is_course_format(paragraphs[j].text) or is_study_topic(paragraphs[j]):\n",
    "                    has_courses = True\n",
    "                    break\n",
    "                j += 1\n",
    "\n",
    "            # If no courses are found, mark the semester heading for removal\n",
    "            if not has_courses:\n",
    "                indices_to_remove.append(i)\n",
    "\n",
    "        i += 1\n",
    "\n",
    "    return indices_to_remove\n",
    "\n",
    "# p_idx = identify_bad_teaching_paragraphs(cv)\n",
    "# cv = remove_paragraphs_by_index(cv, p_idx)"
   ],
   "metadata": {
    "collapsed": false,
    "ExecuteTime": {
     "end_time": "2024-10-29T12:57:58.241501Z",
     "start_time": "2024-10-29T12:57:58.239773Z"
    }
   },
   "id": "9aeba6a9bbfe6ddb"
  },
  {
   "cell_type": "code",
   "execution_count": 174,
   "outputs": [],
   "source": [
    "# publications\n",
    "# remove %\n",
    "# number the papers in reverse chronological order \n",
    "\n",
    "# CV: \"Intellectual Contributions\"\n",
    "cv_start = \"Intellectual Contributions\"\n",
    "cv_end = \"Editorial and Advisory Boards\"\n",
    "\n",
    "p_start = 0\n",
    "for p, it in enumerate(cv.paragraphs):\n",
    "    if cv_start.lower() == it.text.lower():\n",
    "        p_start = p\n",
    "    if p_start > 0:\n",
    "        if '%)' in it.text:\n",
    "            print('detected code in:', it.text)\n",
    "    if cv_end.lower() == it.text.lower():\n",
    "        if p_start == 0:\n",
    "            raise ValueError('Never encountered the start token in CV.')\n",
    "        p_cv = range(p_start+1, p)\n",
    "        break"
   ],
   "metadata": {
    "collapsed": false,
    "ExecuteTime": {
     "end_time": "2024-10-29T12:57:58.281409Z",
     "start_time": "2024-10-29T12:57:58.243499Z"
    }
   },
   "id": "4062184a4e6dcd49"
  },
  {
   "cell_type": "code",
   "execution_count": 175,
   "outputs": [],
   "source": [
    "def is_run_bold(run):\n",
    "    # Check direct formatting\n",
    "    if run.bold is not None:\n",
    "        return run.bold\n",
    "\n",
    "    # Check inherited formatting from run style\n",
    "    if run.style and run.style.font and run.style.font.bold:\n",
    "        return True\n",
    "\n",
    "    # Check inherited formatting from paragraph style\n",
    "    paragraph_style = run._parent.style\n",
    "    if paragraph_style and paragraph_style.font and paragraph_style.font.bold:\n",
    "        return True\n",
    "\n",
    "    # If all checks fail, assume not bold\n",
    "    return False\n",
    "\n",
    "# is_run_bold(cv.paragraphs[342].runs[0])"
   ],
   "metadata": {
    "collapsed": false,
    "ExecuteTime": {
     "end_time": "2024-10-29T12:57:58.286814Z",
     "start_time": "2024-10-29T12:57:58.282433Z"
    }
   },
   "id": "878f4501952fbe66"
  },
  {
   "cell_type": "code",
   "execution_count": 176,
   "outputs": [],
   "source": [
    "# CV: \"Intellectual Contributions\"\n",
    "cv_start = \"Intellectual Contributions\"\n",
    "cv_end = \"Editorial and Advisory Boards\"\n",
    "\n",
    "sections = {}\n",
    "\n",
    "author = 'Napolitano'\n",
    "\n",
    "p_start = 0\n",
    "this_section = None\n",
    "these_entries = None\n",
    "for p, it in enumerate(cv.paragraphs):\n",
    "    if cv_start.lower() == it.text.lower():\n",
    "        p_start = p\n",
    "        continue\n",
    "    if len(it.text) == 0:\n",
    "        continue\n",
    "    if p_start > 0:\n",
    "        if it.style and it.style.font and it.style.font.bold:\n",
    "            if this_section is not None:\n",
    "                sections[this_section] = these_entries\n",
    "            this_section = it.text\n",
    "            these_entries = []\n",
    "        elif author in it.text:  # this is a paper entry\n",
    "            these_entries.append(it)\n",
    "    if cv_end.lower() == it.text.lower():\n",
    "        if p_start == 0:\n",
    "            raise ValueError('Never encountered the start token in CV.')\n",
    "        p_cv = range(p_start+1, p)\n",
    "        break"
   ],
   "metadata": {
    "collapsed": false,
    "ExecuteTime": {
     "end_time": "2024-10-29T12:57:58.346093Z",
     "start_time": "2024-10-29T12:57:58.285033Z"
    }
   },
   "id": "4e659ba035550dd7"
  },
  {
   "cell_type": "code",
   "execution_count": 177,
   "outputs": [
    {
     "data": {
      "text/plain": "41"
     },
     "execution_count": 177,
     "metadata": {},
     "output_type": "execute_result"
    }
   ],
   "source": [
    "len(sections['Articles Published in Refereed Journals'])"
   ],
   "metadata": {
    "collapsed": false,
    "ExecuteTime": {
     "end_time": "2024-10-29T12:57:58.354817Z",
     "start_time": "2024-10-29T12:57:58.352932Z"
    }
   },
   "id": "4ebf30b867c9bf32"
  },
  {
   "cell_type": "code",
   "execution_count": 178,
   "outputs": [],
   "source": [
    "cv = remove_paragraphs_by_index(cv, list(p_cv))"
   ],
   "metadata": {
    "collapsed": false,
    "ExecuteTime": {
     "end_time": "2024-10-29T12:57:58.538228Z",
     "start_time": "2024-10-29T12:57:58.354938Z"
    }
   },
   "id": "4bfac43dc70daa8d"
  },
  {
   "cell_type": "code",
   "execution_count": 179,
   "outputs": [],
   "source": [
    "def insert_pubs_at_index(doc, sections, before):\n",
    "    tab_size = 18\n",
    "    \n",
    "    for key, new_content in sections.items():\n",
    "        _ = before.insert_paragraph_before('')\n",
    "        new_p = before.insert_paragraph_before()\n",
    "        new_run = new_p.add_run(key)\n",
    "        new_run.bold = True\n",
    "        new_p.paragraph_format.left_indent = Pt(tab_size)\n",
    "        \n",
    "        n = len(new_content)\n",
    "        for i, insert_para in enumerate(new_content):\n",
    "            # Insert an empty paragraph before the specified paragraph\n",
    "            _ = before.insert_paragraph_before('')  # blank line to separate entries\n",
    "            new_p = before.insert_paragraph_before()\n",
    "    \n",
    "            _ = new_p.add_run(f'{n-i}. ')  # number entries in reverse order\n",
    "    \n",
    "            # Copy runs with their bold formatting\n",
    "            for run in insert_para.runs:\n",
    "                new_run = new_p.add_run(run.text)\n",
    "                new_run.bold = run.bold\n",
    "                new_run.italic = run.italic\n",
    "    \n",
    "            # Set paragraph formatting to have a hanging indent\n",
    "            new_p.paragraph_format.left_indent = Pt(3*tab_size)\n",
    "            new_p.paragraph_format.first_line_indent = Pt(-tab_size)\n",
    "            \n",
    "    _ = before.insert_paragraph_before('')\n",
    "            \n",
    "    return doc\n",
    "\n",
    "with open(os.path.join('data', 'course_names.json'), 'r') as fid:\n",
    "    course_names = json.load(fid)  \n",
    "\n",
    "before_para = [p for p in cv.paragraphs if p.text.lower() == cv_end.lower()][0]\n",
    "cv = insert_pubs_at_index(cv, sections, before_para)"
   ],
   "metadata": {
    "collapsed": false,
    "ExecuteTime": {
     "end_time": "2024-10-29T12:57:58.597333Z",
     "start_time": "2024-10-29T12:57:58.540467Z"
    }
   },
   "id": "d5fa95e13197aaca"
  },
  {
   "cell_type": "code",
   "execution_count": 180,
   "outputs": [],
   "source": [
    "cv.save(os.path.join('data', 'modified-CV.docx'))"
   ],
   "metadata": {
    "collapsed": false,
    "ExecuteTime": {
     "end_time": "2024-10-29T12:57:58.612517Z",
     "start_time": "2024-10-29T12:57:58.598678Z"
    }
   },
   "id": "943d2c99b4565ac3"
  },
  {
   "cell_type": "code",
   "execution_count": 319,
   "outputs": [],
   "source": [
    "# TODO\n",
    "# order for directed student learning:  phd dissertation advisor, phd dissertation coadviser at top\n",
    "# number the students in reverse order"
   ],
   "metadata": {
    "collapsed": false,
    "ExecuteTime": {
     "end_time": "2024-10-28T19:01:41.075991Z",
     "start_time": "2024-10-28T19:01:41.071523Z"
    }
   },
   "id": "96b123b64fd61485"
  }
 ],
 "metadata": {
  "kernelspec": {
   "display_name": "Python 3",
   "language": "python",
   "name": "python3"
  },
  "language_info": {
   "codemirror_mode": {
    "name": "ipython",
    "version": 2
   },
   "file_extension": ".py",
   "mimetype": "text/x-python",
   "name": "python",
   "nbconvert_exporter": "python",
   "pygments_lexer": "ipython2",
   "version": "2.7.6"
  }
 },
 "nbformat": 4,
 "nbformat_minor": 5
}
